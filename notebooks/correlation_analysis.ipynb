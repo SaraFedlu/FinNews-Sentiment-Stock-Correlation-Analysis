{
 "cells": [
  {
   "cell_type": "code",
   "execution_count": 1,
   "metadata": {},
   "outputs": [],
   "source": [
    "import pandas as pd\n",
    "import numpy as np\n",
    "import matplotlib.pyplot as plt\n",
    "import seaborn as sns\n",
    "from datetime import datetime\n",
    "import re\n",
    "from sklearn.feature_extraction.text import CountVectorizer\n",
    "from sklearn.decomposition import LatentDirichletAllocation"
   ]
  },
  {
   "cell_type": "code",
   "execution_count": 2,
   "metadata": {},
   "outputs": [],
   "source": [
    "df_pub=pd.read_csv('../data/interim/cleaned_analyst_ratings.csv')\n",
    "df_stock=pd.read_csv('../data/raw/yfinance_data/AAPL_historical_data.csv')"
   ]
  },
  {
   "cell_type": "code",
   "execution_count": 4,
   "metadata": {},
   "outputs": [],
   "source": [
    "df_stock['Date'] = pd.to_datetime(df_stock['Date'])"
   ]
  },
  {
   "cell_type": "code",
   "execution_count": 5,
   "metadata": {},
   "outputs": [
    {
     "name": "stdout",
     "output_type": "stream",
     "text": [
      "        Date      Open      High       Low     Close  Adj Close     Volume  \\\n",
      "0 1980-12-12  0.128348  0.128906  0.128348  0.128348   0.098943  469033600   \n",
      "1 1980-12-15  0.122210  0.122210  0.121652  0.121652   0.093781  175884800   \n",
      "2 1980-12-16  0.113281  0.113281  0.112723  0.112723   0.086898  105728000   \n",
      "3 1980-12-17  0.115513  0.116071  0.115513  0.115513   0.089049   86441600   \n",
      "4 1980-12-18  0.118862  0.119420  0.118862  0.118862   0.091630   73449600   \n",
      "\n",
      "   Dividends  Stock Splits  \n",
      "0        0.0           0.0  \n",
      "1        0.0           0.0  \n",
      "2        0.0           0.0  \n",
      "3        0.0           0.0  \n",
      "4        0.0           0.0  \n",
      "<class 'pandas.core.frame.DataFrame'>\n",
      "RangeIndex: 10998 entries, 0 to 10997\n",
      "Data columns (total 9 columns):\n",
      " #   Column        Non-Null Count  Dtype         \n",
      "---  ------        --------------  -----         \n",
      " 0   Date          10998 non-null  datetime64[ns]\n",
      " 1   Open          10998 non-null  float64       \n",
      " 2   High          10998 non-null  float64       \n",
      " 3   Low           10998 non-null  float64       \n",
      " 4   Close         10998 non-null  float64       \n",
      " 5   Adj Close     10998 non-null  float64       \n",
      " 6   Volume        10998 non-null  int64         \n",
      " 7   Dividends     10998 non-null  float64       \n",
      " 8   Stock Splits  10998 non-null  float64       \n",
      "dtypes: datetime64[ns](1), float64(7), int64(1)\n",
      "memory usage: 773.4 KB\n",
      "None\n",
      "                                Date          Open          High  \\\n",
      "count                          10998  10998.000000  10998.000000   \n",
      "mean   2002-09-26 14:14:28.085106304     22.299160     22.539055   \n",
      "min              1980-12-12 00:00:00      0.049665      0.049665   \n",
      "25%              1991-10-28 06:00:00      0.299107      0.303710   \n",
      "50%              2002-09-23 12:00:00      0.531250      0.537946   \n",
      "75%              2013-08-25 06:00:00     20.204196     20.389554   \n",
      "max              2024-07-30 00:00:00    236.479996    237.229996   \n",
      "std                              NaN     46.003685     46.496031   \n",
      "\n",
      "                Low         Close     Adj Close        Volume     Dividends  \\\n",
      "count  10998.000000  10998.000000  10998.000000  1.099800e+04  10998.000000   \n",
      "mean      22.068367     22.312754     21.494496  3.180806e+08      0.000752   \n",
      "min        0.049107      0.049107      0.037857  0.000000e+00      0.000000   \n",
      "25%        0.290179      0.298549      0.241840  1.132545e+08      0.000000   \n",
      "50%        0.522321      0.531250      0.432079  2.057412e+08      0.000000   \n",
      "75%       19.998036     20.196160     17.253029  3.985275e+08      0.000000   \n",
      "max      233.089996    234.820007    234.548523  7.421641e+09      0.250000   \n",
      "std       45.540929     46.037660     45.561916  3.354523e+08      0.011753   \n",
      "\n",
      "       Stock Splits  \n",
      "count  10998.000000  \n",
      "mean       0.001546  \n",
      "min        0.000000  \n",
      "25%        0.000000  \n",
      "50%        0.000000  \n",
      "75%        0.000000  \n",
      "max        7.000000  \n",
      "std        0.083663  \n"
     ]
    }
   ],
   "source": [
    "print(df_stock.head())\n",
    "print(df_stock.info())\n",
    "print(df_stock.describe(include='all'))"
   ]
  },
  {
   "cell_type": "code",
   "execution_count": 6,
   "metadata": {},
   "outputs": [
    {
     "name": "stdout",
     "output_type": "stream",
     "text": [
      "Date            0\n",
      "Open            0\n",
      "High            0\n",
      "Low             0\n",
      "Close           0\n",
      "Adj Close       0\n",
      "Volume          0\n",
      "Dividends       0\n",
      "Stock Splits    0\n",
      "dtype: int64\n",
      "0\n"
     ]
    }
   ],
   "source": [
    "print(df_stock.isnull().sum())\n",
    "print(df_stock.duplicated().sum())"
   ]
  }
 ],
 "metadata": {
  "kernelspec": {
   "display_name": ".env",
   "language": "python",
   "name": "python3"
  },
  "language_info": {
   "codemirror_mode": {
    "name": "ipython",
    "version": 3
   },
   "file_extension": ".py",
   "mimetype": "text/x-python",
   "name": "python",
   "nbconvert_exporter": "python",
   "pygments_lexer": "ipython3",
   "version": "3.12.3"
  }
 },
 "nbformat": 4,
 "nbformat_minor": 2
}
